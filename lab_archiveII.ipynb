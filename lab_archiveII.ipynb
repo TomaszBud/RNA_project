{
 "cells": [
  {
   "cell_type": "code",
   "execution_count": 2,
   "metadata": {},
   "outputs": [
    {
     "name": "stdout",
     "output_type": "stream",
     "text": [
      "Liczba wczytanych sekwencji: 3970\n",
      "Liczba wczytanych struktur: 3970\n"
     ]
    }
   ],
   "source": [
    "import os\n",
    "import numpy as np\n",
    "\n",
    "def load_fasta(file_path):\n",
    "    sequences = {}\n",
    "    header = None\n",
    "    with open(file_path, 'r') as f:\n",
    "        for line in f:\n",
    "            line = line.strip()\n",
    "            if line.startswith('>'):\n",
    "                header = line[1:]\n",
    "                sequences[header] = ''\n",
    "            else:\n",
    "                sequences[header] += line\n",
    "    return sequences[header]\n",
    "\n",
    "def load_bpseq(file_path):\n",
    "    structure = []\n",
    "    with open(file_path, 'r') as f:\n",
    "        for line in f:\n",
    "            parts = line.strip().split()\n",
    "            if len(parts) == 3:\n",
    "                idx = int(parts[0])\n",
    "                nucleotide = parts[1]\n",
    "                pair = int(parts[2])\n",
    "                structure.append((idx, nucleotide, pair))\n",
    "    return structure\n",
    "\n",
    "def load_data(fasta_dir, bpseq_dir):\n",
    "    fasta_files = [f for f in os.listdir(fasta_dir) if f.endswith('.fa')]\n",
    "    bpseq_files = [f for f in os.listdir(bpseq_dir) if f.endswith('.bpseq')]\n",
    "\n",
    "    sequences = {}\n",
    "    structures = {}\n",
    "\n",
    "    for fasta_file in fasta_files:\n",
    "        header = os.path.splitext(fasta_file)[0]\n",
    "        fasta_path = os.path.join(fasta_dir, fasta_file)\n",
    "        sequences[header] = load_fasta(fasta_path)\n",
    "\n",
    "    for bpseq_file in bpseq_files:\n",
    "        header = os.path.splitext(bpseq_file)[0]\n",
    "        bpseq_path = os.path.join(bpseq_dir, bpseq_file)\n",
    "        structures[header] = load_bpseq(bpseq_path)\n",
    "\n",
    "    return sequences, structures\n",
    "\n",
    "sequences, structures = load_data('ArchiveII/', 'ArchiveII/')\n",
    "print(\"Liczba wczytanych sekwencji:\", len(sequences))\n",
    "print(\"Liczba wczytanych struktur:\", len(structures))\n"
   ]
  },
  {
   "cell_type": "code",
   "execution_count": 16,
   "metadata": {},
   "outputs": [],
   "source": [
    "def one_hot_encode_sequence(seq):\n",
    "    mapping = {'A': 0, 'C': 1, 'G': 2, 'U': 3}\n",
    "    one_hot = np.zeros((len(seq), 4), dtype=int)\n",
    "    for i, nucleotide in enumerate(seq):\n",
    "        one_hot[i, mapping[nucleotide.upper()]] = 1\n",
    "    return one_hot\n",
    "\n",
    "encoded_sequences = {header: one_hot_encode_sequence(seq) for header, seq in sequences.items()}\n",
    "# encoded_sequences\n"
   ]
  },
  {
   "cell_type": "code",
   "execution_count": 4,
   "metadata": {},
   "outputs": [],
   "source": [
    "\n",
    "heds = []\n",
    "def encode_structure(structure, seq_length):\n",
    "    encoded = np.zeros(seq_length, dtype=int)\n",
    "    for idx, _, pair in structure:\n",
    "        if pair != 0:\n",
    "            encoded[idx - 1] = 1\n",
    "            encoded[pair - 1] = 1\n",
    "    return encoded\n",
    "\n",
    "encoded_structures = {header: encode_structure(struct, len(structures[header])) for header, struct in structures.items() if header in sequences.keys()}\n"
   ]
  },
  {
   "cell_type": "code",
   "execution_count": 5,
   "metadata": {},
   "outputs": [
    {
     "name": "stdout",
     "output_type": "stream",
     "text": [
      "Sequences keys: ['16s_A.fulgidus', '16s_A.fulgidus_domain1', '16s_A.fulgidus_domain2', '16s_A.fulgidus_domain3', '16s_A.fulgidus_domain4']\n",
      "Structures keys: ['16s_A.fulgidus', '16s_A.fulgidus_domain1', '16s_A.fulgidus_domain2', '16s_A.fulgidus_domain3', '16s_A.fulgidus_domain4']\n",
      "Encoded sequences: 3970\n",
      "Encoded structures: 3970\n"
     ]
    }
   ],
   "source": [
    "print(f\"Sequences keys: {list(sequences.keys())[:5]}\")\n",
    "print(f\"Structures keys: {list(structures.keys())[:5]}\")\n",
    "\n",
    "print(f\"Encoded sequences: {len(encoded_sequences)}\")\n",
    "print(f\"Encoded structures: {len(encoded_structures)}\")\n"
   ]
  },
  {
   "cell_type": "code",
   "execution_count": 6,
   "metadata": {},
   "outputs": [
    {
     "name": "stderr",
     "output_type": "stream",
     "text": [
      "C:\\Users\\tomek\\AppData\\Local\\Temp/ipykernel_28200/1655807189.py:14: FutureWarning: elementwise comparison failed; returning scalar instead, but in the future will perform elementwise comparison\n",
      "  if seq[i] in ['A', 'C', 'G', 'U']:  # nuclei check\n"
     ]
    }
   ],
   "source": [
    "from sklearn.model_selection import train_test_split\n",
    "\n",
    "def prepare_data(sequences, structures):\n",
    "    X_list = []\n",
    "    y_list = []\n",
    "    max_seq_length = max(len(seq) for seq in sequences.values())\n",
    "    max_struct_length = max(len(struct) for struct in structures.values())\n",
    "    for header in sequences.keys():\n",
    "        seq = sequences[header]\n",
    "        struct = structures[header]\n",
    "        seq_array = np.zeros((max_seq_length, 4))  # padding\n",
    "        struct_array = np.zeros(max_struct_length)  \n",
    "        for i in range(len(seq)):\n",
    "            if seq[i] in ['A', 'C', 'G', 'U']:  # nuclei check\n",
    "                if seq[i] == 'A':\n",
    "                    seq_array[i, 0] = 1\n",
    "                elif seq[i] == 'C':\n",
    "                    seq_array[i, 1] = 1\n",
    "                elif seq[i] == 'G':\n",
    "                    seq_array[i, 2] = 1\n",
    "                elif seq[i] == 'U':\n",
    "                    seq_array[i, 3] = 1\n",
    "        for i in range(len(struct)):\n",
    "            if struct[i] != 0:  \n",
    "                struct_array[i] = 1\n",
    "        X_list.append(seq_array)\n",
    "        y_list.append(struct_array)\n",
    "    X = np.array(X_list)\n",
    "    y = np.array(y_list)\n",
    "    return X, y\n",
    "\n",
    "\n",
    "X, y = prepare_data(encoded_sequences, encoded_structures)\n",
    "\n",
    "X_train, X_temp, y_train, y_temp = train_test_split(X, y, test_size=0.3, random_state=42)\n",
    "X_val, X_test, y_val, y_test = train_test_split(X_temp, y_temp, test_size=0.5, random_state=42)\n"
   ]
  },
  {
   "cell_type": "code",
   "execution_count": 8,
   "metadata": {},
   "outputs": [],
   "source": [
    "(X_train.shape[1], X_train.shape[2])\n"
   ]
  },
  {
   "cell_type": "code",
   "execution_count": 119,
   "metadata": {},
   "outputs": [
    {
     "name": "stdout",
     "output_type": "stream",
     "text": [
      "Epoch 1/50\n",
      "87/87 [==============================] - 109s 851ms/step - loss: 0.6738 - accuracy: 0.9597\n",
      "Epoch 2/50\n",
      "87/87 [==============================] - 76s 871ms/step - loss: 0.6363 - accuracy: 0.9597\n",
      "Epoch 3/50\n",
      "87/87 [==============================] - 76s 871ms/step - loss: 0.6015 - accuracy: 0.9597\n",
      "Epoch 4/50\n",
      "87/87 [==============================] - 72s 826ms/step - loss: 0.5692 - accuracy: 0.9597\n",
      "Epoch 5/50\n",
      "87/87 [==============================] - 73s 842ms/step - loss: 0.5393 - accuracy: 0.9597\n",
      "Epoch 6/50\n",
      "87/87 [==============================] - 72s 827ms/step - loss: 0.5116 - accuracy: 0.9597\n",
      "Epoch 7/50\n",
      "87/87 [==============================] - 81s 929ms/step - loss: 0.4859 - accuracy: 0.9597\n",
      "Epoch 8/50\n",
      "87/87 [==============================] - 69s 797ms/step - loss: 0.4621 - accuracy: 0.9597\n",
      "Epoch 9/50\n",
      "87/87 [==============================] - 69s 798ms/step - loss: 0.4401 - accuracy: 0.9597\n",
      "Epoch 10/50\n",
      "87/87 [==============================] - 69s 797ms/step - loss: 0.4197 - accuracy: 0.9597\n",
      "Epoch 11/50\n",
      "87/87 [==============================] - 69s 798ms/step - loss: 0.4009 - accuracy: 0.9597\n",
      "Epoch 12/50\n",
      "87/87 [==============================] - 72s 826ms/step - loss: 0.3835 - accuracy: 0.9597\n",
      "Epoch 13/50\n",
      "87/87 [==============================] - 82s 939ms/step - loss: 0.3674 - accuracy: 0.9597\n",
      "Epoch 14/50\n",
      "87/87 [==============================] - 71s 815ms/step - loss: 0.3525 - accuracy: 0.9597\n",
      "Epoch 15/50\n",
      "87/87 [==============================] - 72s 820ms/step - loss: 0.3388 - accuracy: 0.9597\n",
      "Epoch 16/50\n",
      "87/87 [==============================] - 69s 788ms/step - loss: 0.3260 - accuracy: 0.9597\n",
      "Epoch 17/50\n",
      "87/87 [==============================] - 68s 785ms/step - loss: 0.3142 - accuracy: 0.9597\n",
      "Epoch 18/50\n",
      "87/87 [==============================] - 69s 788ms/step - loss: 0.3033 - accuracy: 0.9597\n",
      "Epoch 19/50\n",
      "87/87 [==============================] - 67s 773ms/step - loss: 0.2932 - accuracy: 0.9597\n",
      "Epoch 20/50\n",
      "87/87 [==============================] - 66s 760ms/step - loss: 0.2838 - accuracy: 0.9597\n",
      "Epoch 21/50\n",
      "87/87 [==============================] - 66s 756ms/step - loss: 0.2751 - accuracy: 0.9597\n",
      "Epoch 22/50\n",
      "87/87 [==============================] - 66s 757ms/step - loss: 0.2671 - accuracy: 0.9597\n",
      "Epoch 23/50\n",
      "87/87 [==============================] - 66s 756ms/step - loss: 0.2596 - accuracy: 0.9597\n",
      "Epoch 24/50\n",
      "87/87 [==============================] - 66s 754ms/step - loss: 0.2527 - accuracy: 0.9597\n",
      "Epoch 25/50\n",
      "87/87 [==============================] - 66s 755ms/step - loss: 0.2463 - accuracy: 0.9597\n",
      "Epoch 26/50\n",
      "87/87 [==============================] - 66s 757ms/step - loss: 0.2403 - accuracy: 0.9597\n",
      "Epoch 27/50\n",
      "87/87 [==============================] - 66s 755ms/step - loss: 0.2348 - accuracy: 0.9597\n",
      "Epoch 28/50\n",
      "87/87 [==============================] - 66s 755ms/step - loss: 0.2296 - accuracy: 0.9597\n",
      "Epoch 29/50\n",
      "87/87 [==============================] - 66s 759ms/step - loss: 0.2249 - accuracy: 0.9597\n",
      "Epoch 30/50\n",
      "87/87 [==============================] - 66s 756ms/step - loss: 0.2205 - accuracy: 0.9597\n",
      "Epoch 31/50\n",
      "87/87 [==============================] - 66s 754ms/step - loss: 0.2164 - accuracy: 0.9597\n",
      "Epoch 32/50\n",
      "87/87 [==============================] - 66s 759ms/step - loss: 0.2126 - accuracy: 0.9597\n",
      "Epoch 33/50\n",
      "87/87 [==============================] - 66s 755ms/step - loss: 0.2090 - accuracy: 0.9597\n",
      "Epoch 34/50\n",
      "87/87 [==============================] - 66s 754ms/step - loss: 0.2057 - accuracy: 0.9597\n",
      "Epoch 35/50\n",
      "87/87 [==============================] - 66s 754ms/step - loss: 0.2027 - accuracy: 0.9597\n",
      "Epoch 36/50\n",
      "87/87 [==============================] - 66s 755ms/step - loss: 0.1999 - accuracy: 0.9597\n",
      "Epoch 37/50\n",
      "87/87 [==============================] - 66s 757ms/step - loss: 0.1973 - accuracy: 0.9597\n",
      "Epoch 38/50\n",
      "87/87 [==============================] - 66s 756ms/step - loss: 0.1949 - accuracy: 0.9597\n",
      "Epoch 39/50\n",
      "87/87 [==============================] - 66s 759ms/step - loss: 0.1926 - accuracy: 0.9597\n",
      "Epoch 40/50\n",
      "87/87 [==============================] - 66s 755ms/step - loss: 0.1905 - accuracy: 0.9597\n",
      "Epoch 41/50\n",
      "87/87 [==============================] - 66s 754ms/step - loss: 0.1886 - accuracy: 0.9597\n",
      "Epoch 42/50\n",
      "87/87 [==============================] - 66s 755ms/step - loss: 0.1868 - accuracy: 0.9597\n",
      "Epoch 43/50\n",
      "87/87 [==============================] - 66s 756ms/step - loss: 0.1852 - accuracy: 0.9597\n",
      "Epoch 44/50\n",
      "87/87 [==============================] - 66s 764ms/step - loss: 0.1837 - accuracy: 0.9597\n",
      "Epoch 45/50\n",
      "87/87 [==============================] - 69s 788ms/step - loss: 0.1823 - accuracy: 0.9597\n",
      "Epoch 46/50\n",
      "87/87 [==============================] - 68s 787ms/step - loss: 0.1810 - accuracy: 0.9597\n",
      "Epoch 47/50\n",
      "87/87 [==============================] - 69s 792ms/step - loss: 0.1798 - accuracy: 0.9597\n",
      "Epoch 48/50\n",
      "87/87 [==============================] - 69s 795ms/step - loss: 0.1787 - accuracy: 0.9597\n",
      "Epoch 49/50\n",
      "87/87 [==============================] - 67s 765ms/step - loss: 0.1777 - accuracy: 0.9597\n",
      "Epoch 50/50\n",
      "87/87 [==============================] - 72s 827ms/step - loss: 0.1768 - accuracy: 0.9597\n"
     ]
    }
   ],
   "source": [
    "from keras.models import Model\n",
    "from keras.layers import Input, Conv1D, MaxPooling1D, UpSampling1D, concatenate\n",
    "\n",
    "def unet(input_shape):\n",
    "    inputs = Input(shape=input_shape)\n",
    "    \n",
    "    # Encoder\n",
    "    conv1 = Conv1D(64, 3, activation='relu', padding='same')(inputs)\n",
    "    pool1 = MaxPooling1D(2)(conv1)\n",
    "    conv2 = Conv1D(128, 3, activation='relu', padding='same')(pool1)\n",
    "    pool2 = MaxPooling1D(2)(conv2)\n",
    "    conv3 = Conv1D(256, 3, activation='relu', padding='same')(pool2)\n",
    "    \n",
    "    # Decoder\n",
    "    up1 = UpSampling1D(2)(conv3)\n",
    "    upconv1 = Conv1D(128, 2, activation='relu', padding='same')(up1)\n",
    "    concat1 = concatenate([conv2, upconv1], axis=2)\n",
    "    conv4 = Conv1D(128, 3, activation='relu', padding='same')(concat1)\n",
    "    up2 = UpSampling1D(2)(conv4)\n",
    "    upconv2 = Conv1D(64, 2, activation='relu', padding='same')(up2)\n",
    "    concat2 = concatenate([conv1, upconv2], axis=2)\n",
    "    conv5 = Conv1D(64, 3, activation='relu', padding='same')(concat2)\n",
    "    \n",
    "    # Output\n",
    "    outputs = Conv1D(1, 1, activation='sigmoid')(conv5)\n",
    "    \n",
    "    model = Model(inputs=inputs, outputs=outputs)\n",
    "    model.compile(optimizer='adam', loss='binary_crossentropy', metrics=['accuracy'])\n",
    "    return model\n",
    "\n",
    "input_shape = (X_train.shape[1], X_train.shape[2])\n",
    "model = unet(input_shape)\n",
    "\n",
    "history = model.fit(X_train, y_train, epochs=50, batch_size=32)"
   ]
  },
  {
   "cell_type": "code",
   "execution_count": 120,
   "metadata": {},
   "outputs": [
    {
     "name": "stdout",
     "output_type": "stream",
     "text": [
      "19/19 [==============================] - 5s 210ms/step - loss: 0.1733 - accuracy: 0.9609\n",
      "Test Accuracy: 0.9609097242355347\n"
     ]
    }
   ],
   "source": [
    "loss, accuracy = model.evaluate(X_test, y_test)\n",
    "print(f'Test Accuracy: {accuracy}')\n",
    "model.save('model_archive.h5')"
   ]
  },
  {
   "cell_type": "code",
   "execution_count": 12,
   "metadata": {},
   "outputs": [
    {
     "name": "stdout",
     "output_type": "stream",
     "text": [
      "Epoch 1/10\n",
      "87/87 [==============================] - 116s 926ms/step - loss: 0.6738 - accuracy: 0.9597 - val_loss: 0.6543 - val_accuracy: 0.9610\n",
      "Epoch 2/10\n",
      "87/87 [==============================] - 80s 920ms/step - loss: 0.6364 - accuracy: 0.9597 - val_loss: 0.6181 - val_accuracy: 0.9610\n",
      "Epoch 3/10\n",
      "87/87 [==============================] - 77s 890ms/step - loss: 0.6016 - accuracy: 0.9597 - val_loss: 0.5845 - val_accuracy: 0.9610\n",
      "Epoch 4/10\n",
      "87/87 [==============================] - 75s 866ms/step - loss: 0.5693 - accuracy: 0.9597 - val_loss: 0.5533 - val_accuracy: 0.9610\n",
      "Epoch 5/10\n",
      "87/87 [==============================] - 75s 866ms/step - loss: 0.5393 - accuracy: 0.9597 - val_loss: 0.5244 - val_accuracy: 0.9610\n",
      "Epoch 6/10\n",
      "87/87 [==============================] - 76s 874ms/step - loss: 0.5116 - accuracy: 0.9597 - val_loss: 0.4976 - val_accuracy: 0.9610\n",
      "Epoch 7/10\n",
      "87/87 [==============================] - 76s 876ms/step - loss: 0.4859 - accuracy: 0.9597 - val_loss: 0.4728 - val_accuracy: 0.9610\n",
      "Epoch 8/10\n",
      "87/87 [==============================] - 74s 854ms/step - loss: 0.4621 - accuracy: 0.9597 - val_loss: 0.4499 - val_accuracy: 0.9610\n",
      "Epoch 9/10\n",
      "87/87 [==============================] - 78s 893ms/step - loss: 0.4401 - accuracy: 0.9597 - val_loss: 0.4286 - val_accuracy: 0.9610\n",
      "Epoch 10/10\n",
      "87/87 [==============================] - 77s 885ms/step - loss: 0.4198 - accuracy: 0.9597 - val_loss: 0.4090 - val_accuracy: 0.9610\n"
     ]
    }
   ],
   "source": [
    "model_new = unet(input_shape)\n",
    "\n",
    "history_new = model_new.fit(X_train, y_train, validation_data=(X_val, y_val), epochs=10, batch_size=32)"
   ]
  },
  {
   "cell_type": "code",
   "execution_count": 13,
   "metadata": {},
   "outputs": [
    {
     "name": "stdout",
     "output_type": "stream",
     "text": [
      "19/19 [==============================] - 4s 216ms/step - loss: 0.4091 - accuracy: 0.9609\n",
      "Test Accuracy: 0.9609097242355347\n"
     ]
    }
   ],
   "source": [
    "loss, accuracy = model_new.evaluate(X_test, y_test)\n",
    "print(f'Test Accuracy: {accuracy}')"
   ]
  },
  {
   "cell_type": "code",
   "execution_count": 15,
   "metadata": {},
   "outputs": [
    {
     "data": {
      "image/png": "[encoded data removed]",
      "text/plain": [
       "<Figure size 864x432 with 2 Axes>"
      ]
     },
     "metadata": {
      "needs_background": "light"
     },
     "output_type": "display_data"
    }
   ],
   "source": [
    "import matplotlib.pyplot as plt\n",
    "\n",
    "plt.figure(figsize=(12, 6))\n",
    "\n",
    "plt.subplot(1, 2, 1)\n",
    "plt.plot(history_new.history['accuracy'], label='Train Accuracy')\n",
    "plt.plot(history_new.history['val_accuracy'], label='Validation Accuracy')\n",
    "plt.title('Model Accuracy')\n",
    "plt.xlabel('Epoch')\n",
    "plt.ylabel('Accuracy')\n",
    "plt.legend()\n",
    "\n",
    "plt.subplot(1, 2, 2)\n",
    "plt.plot(history_new.history['loss'], label='Train Loss')\n",
    "plt.plot(history_new.history['val_loss'], label='Validation Loss')\n",
    "plt.title('Model Loss')\n",
    "plt.xlabel('Epoch')\n",
    "plt.ylabel('Loss')\n",
    "plt.legend()\n",
    "plt.savefig(\"acc_val_archiveII.pdf\")\n",
    "plt.show()\n"
   ]
  }
 ],
 "metadata": {
  "kernelspec": {
   "display_name": "Python 3",
   "language": "python",
   "name": "python3"
  },
  "language_info": {
   "codemirror_mode": {
    "name": "ipython",
    "version": 3
   },
   "file_extension": ".py",
   "mimetype": "text/x-python",
   "name": "python",
   "nbconvert_exporter": "python",
   "pygments_lexer": "ipython3",
   "version": "3.10.9"
  }
 },
 "nbformat": 4,
 "nbformat_minor": 2
}
