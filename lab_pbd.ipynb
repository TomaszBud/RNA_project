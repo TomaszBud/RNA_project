{
 "cells": [
  {
   "cell_type": "code",
   "execution_count": 6,
   "metadata": {},
   "outputs": [
    {
     "name": "stdout",
     "output_type": "stream",
     "text": [
      "Liczba wczytanych sekwencji: 590\n",
      "Liczba wczytanych struktur: 590\n"
     ]
    }
   ],
   "source": [
    "import os\n",
    "import numpy as np\n",
    "\n",
    "def load_fasta(file_path):\n",
    "    sequences = {}\n",
    "    header = None\n",
    "    with open(file_path, 'r') as f:\n",
    "        for line in f:\n",
    "            line = line.strip()\n",
    "            if line.startswith('>'):\n",
    "                header = line[1:]\n",
    "                sequences[header] = ''\n",
    "            else:\n",
    "                sequences[header] += line\n",
    "    return sequences[header]\n",
    "\n",
    "def load_bpseq(file_path):\n",
    "    structure = []\n",
    "    with open(file_path, 'r') as f:\n",
    "        for line in f:\n",
    "            parts = line.strip().split()\n",
    "            if len(parts) == 3:\n",
    "                idx = int(parts[0])\n",
    "                nucleotide = parts[1]\n",
    "                pair = int(parts[2])\n",
    "                structure.append((idx, nucleotide, pair))\n",
    "    return structure\n",
    "\n",
    "def load_data(fasta_dir, bpseq_dir):\n",
    "    fasta_files = [f for f in os.listdir(fasta_dir) if f.endswith('.fa')]\n",
    "    bpseq_files = [f for f in os.listdir(bpseq_dir) if f.endswith('.bpseq')]\n",
    "\n",
    "    sequences = {}\n",
    "    structures = {}\n",
    "\n",
    "    for fasta_file in fasta_files:\n",
    "        header = os.path.splitext(fasta_file)[0]\n",
    "        fasta_path = os.path.join(fasta_dir, fasta_file)\n",
    "        sequences[header] = load_fasta(fasta_path)\n",
    "\n",
    "    for bpseq_file in bpseq_files:\n",
    "        header = os.path.splitext(bpseq_file)[0]\n",
    "        bpseq_path = os.path.join(bpseq_dir, bpseq_file)\n",
    "        structures[header] = load_bpseq(bpseq_path)\n",
    "\n",
    "    return sequences, structures\n",
    "\n",
    "sequences, structures = load_data('PDB/', 'PDB/')\n",
    "print(\"Liczba wczytanych sekwencji:\", len(sequences))\n",
    "print(\"Liczba wczytanych struktur:\", len(structures))\n"
   ]
  },
  {
   "cell_type": "code",
   "execution_count": 7,
   "metadata": {},
   "outputs": [],
   "source": [
    "def one_hot_encode_sequence(seq):\n",
    "    mapping = {'A': 0, 'C': 1, 'G': 2, 'U': 3}\n",
    "    one_hot = np.zeros((len(seq), 4), dtype=int)\n",
    "    for i, nucleotide in enumerate(seq):\n",
    "        one_hot[i, mapping[nucleotide.upper()]] = 1\n",
    "    return one_hot\n",
    "encoded_sequences = {header: one_hot_encode_sequence(seq) for header, seq in sequences.items()}\n"
   ]
  },
  {
   "cell_type": "code",
   "execution_count": 8,
   "metadata": {},
   "outputs": [],
   "source": [
    "def encode_structure(structure, seq_length):\n",
    "    encoded = np.zeros(seq_length, dtype=int)\n",
    "\n",
    "    for idx, _, pair in structure:\n",
    "        if pair != 0:\n",
    "            encoded[idx - 1] = 1\n",
    "            encoded[pair - 1] = 1\n",
    "    return encoded\n",
    "\n",
    "encoded_structures = {header: encode_structure(struct, len(structures[header])) for header, struct in structures.items() if header in sequences.keys()}\n"
   ]
  },
  {
   "cell_type": "code",
   "execution_count": 9,
   "metadata": {},
   "outputs": [
    {
     "name": "stdout",
     "output_type": "stream",
     "text": [
      "Sequences keys: ['1A9N_1_Q', '1B23_1_R', '1E7K_1_C', '1EC6_1_C', '1EC6_1_D']\n",
      "Structures keys: ['1A9N_1_Q', '1B23_1_R', '1E7K_1_C', '1EC6_1_C', '1EC6_1_D']\n",
      "Encoded sequences: 590\n",
      "Encoded structures: 590\n"
     ]
    }
   ],
   "source": [
    "print(f\"Sequences keys: {list(sequences.keys())[:5]}\")\n",
    "print(f\"Structures keys: {list(structures.keys())[:5]}\")\n",
    "\n",
    "print(f\"Encoded sequences: {len(encoded_sequences)}\")\n",
    "print(f\"Encoded structures: {len(encoded_structures)}\")"
   ]
  },
  {
   "cell_type": "code",
   "execution_count": 17,
   "metadata": {},
   "outputs": [
    {
     "name": "stderr",
     "output_type": "stream",
     "text": [
      "C:\\Users\\tomek\\AppData\\Local\\Temp/ipykernel_26672/1724513635.py:21: FutureWarning: elementwise comparison failed; returning scalar instead, but in the future will perform elementwise comparison\n",
      "  if seq[i] in ['A', 'C', 'G', 'U']:  # Sprawdzenie, czy znak jest poprawnym nukleotydem\n"
     ]
    }
   ],
   "source": [
    "from sklearn.model_selection import train_test_split\n",
    "import numpy as np\n",
    "\n",
    "def prepare_data(sequences, structures, max_length):\n",
    "    X_list = []\n",
    "    y_list = []\n",
    "    for header in sequences.keys():\n",
    "        seq = sequences[header]\n",
    "        struct = structures[header]\n",
    "        seq_array = np.zeros((max_length, 4)) \n",
    "        struct_array = np.zeros(max_length)  \n",
    "        \n",
    "        # padding\n",
    "        if len(seq) < max_length:\n",
    "            pad_length = max_length - len(seq)\n",
    "            seq = np.pad(seq, (0, pad_length), mode='constant')\n",
    "        else:\n",
    "            seq = seq[:max_length]\n",
    "        \n",
    "        for i in range(len(seq)):\n",
    "            if seq[i] in ['A', 'C', 'G', 'U']:  # nuclei\n",
    "                if seq[i] == 'A':\n",
    "                    seq_array[i, 0] = 1\n",
    "                elif seq[i] == 'C':\n",
    "                    seq_array[i, 1] = 1\n",
    "                elif seq[i] == 'G':\n",
    "                    seq_array[i, 2] = 1\n",
    "                elif seq[i] == 'U':\n",
    "                    seq_array[i, 3] = 1\n",
    "        \n",
    "        # padding\n",
    "        if len(struct) < max_length:\n",
    "            pad_length = max_length - len(struct)\n",
    "            struct = np.pad(struct, (0, pad_length), mode='constant')\n",
    "        else:\n",
    "            struct = struct[:max_length]\n",
    "        \n",
    "        for i in range(len(struct)):\n",
    "            if struct[i] != 0:  \n",
    "                struct_array[i] = 1\n",
    "        \n",
    "        X_list.append(seq_array)\n",
    "        y_list.append(struct_array)\n",
    "    \n",
    "    X = np.array(X_list)\n",
    "    y = np.array(y_list)\n",
    "    \n",
    "    return X, y\n",
    "\n",
    "max_sequence_length = 2968\n",
    "\n",
    "X, y = prepare_data(encoded_sequences, encoded_structures, max_sequence_length)\n",
    "\n",
    "X_train, X_temp, y_train, y_temp = train_test_split(X, y, test_size=0.3, random_state=42)\n",
    "X_val, X_test, y_val, y_test = train_test_split(X_temp, y_temp, test_size=0.5, random_state=42)\n"
   ]
  },
  {
   "cell_type": "code",
   "execution_count": 15,
   "metadata": {},
   "outputs": [],
   "source": [
    "model_pdb = tf.keras.models.load_model('model_archive.h5')\n"
   ]
  },
  {
   "cell_type": "code",
   "execution_count": 18,
   "metadata": {},
   "outputs": [
    {
     "name": "stdout",
     "output_type": "stream",
     "text": [
      "Epoch 1/50\n",
      "13/13 [==============================] - 42s 815ms/step - loss: 0.1805 - accuracy: 0.9581\n",
      "Epoch 2/50\n",
      "13/13 [==============================] - 10s 776ms/step - loss: 0.1804 - accuracy: 0.9581\n",
      "Epoch 3/50\n",
      "13/13 [==============================] - 10s 779ms/step - loss: 0.1803 - accuracy: 0.9581\n",
      "Epoch 4/50\n",
      "13/13 [==============================] - 10s 777ms/step - loss: 0.1802 - accuracy: 0.9581\n",
      "Epoch 5/50\n",
      "13/13 [==============================] - 11s 811ms/step - loss: 0.1801 - accuracy: 0.9581\n",
      "Epoch 6/50\n",
      "13/13 [==============================] - 11s 842ms/step - loss: 0.1800 - accuracy: 0.9581\n",
      "Epoch 7/50\n",
      "13/13 [==============================] - 11s 845ms/step - loss: 0.1799 - accuracy: 0.9581\n",
      "Epoch 8/50\n",
      "13/13 [==============================] - 10s 799ms/step - loss: 0.1798 - accuracy: 0.9581\n",
      "Epoch 9/50\n",
      "13/13 [==============================] - 11s 848ms/step - loss: 0.1797 - accuracy: 0.9581\n",
      "Epoch 10/50\n",
      "13/13 [==============================] - 12s 915ms/step - loss: 0.1796 - accuracy: 0.9581\n",
      "Epoch 11/50\n",
      "13/13 [==============================] - 10s 794ms/step - loss: 0.1795 - accuracy: 0.9581\n",
      "Epoch 12/50\n",
      "13/13 [==============================] - 10s 786ms/step - loss: 0.1794 - accuracy: 0.9581\n",
      "Epoch 13/50\n",
      "13/13 [==============================] - 10s 784ms/step - loss: 0.1793 - accuracy: 0.9581\n",
      "Epoch 14/50\n",
      "13/13 [==============================] - 10s 777ms/step - loss: 0.1792 - accuracy: 0.9581\n",
      "Epoch 15/50\n",
      "13/13 [==============================] - 10s 783ms/step - loss: 0.1791 - accuracy: 0.9581\n",
      "Epoch 16/50\n",
      "13/13 [==============================] - 10s 781ms/step - loss: 0.1790 - accuracy: 0.9581\n",
      "Epoch 17/50\n",
      "13/13 [==============================] - 10s 778ms/step - loss: 0.1789 - accuracy: 0.9581\n",
      "Epoch 18/50\n",
      "13/13 [==============================] - 10s 776ms/step - loss: 0.1788 - accuracy: 0.9581\n",
      "Epoch 19/50\n",
      "13/13 [==============================] - 10s 794ms/step - loss: 0.1787 - accuracy: 0.9581\n",
      "Epoch 20/50\n",
      "13/13 [==============================] - 10s 796ms/step - loss: 0.1787 - accuracy: 0.9581\n",
      "Epoch 21/50\n",
      "13/13 [==============================] - 10s 791ms/step - loss: 0.1786 - accuracy: 0.9581\n",
      "Epoch 22/50\n",
      "13/13 [==============================] - 10s 787ms/step - loss: 0.1785 - accuracy: 0.9581\n",
      "Epoch 23/50\n",
      "13/13 [==============================] - 10s 780ms/step - loss: 0.1784 - accuracy: 0.9581\n",
      "Epoch 24/50\n",
      "13/13 [==============================] - 10s 779ms/step - loss: 0.1783 - accuracy: 0.9581\n",
      "Epoch 25/50\n",
      "13/13 [==============================] - 10s 778ms/step - loss: 0.1783 - accuracy: 0.9581\n",
      "Epoch 26/50\n",
      "13/13 [==============================] - 10s 778ms/step - loss: 0.1782 - accuracy: 0.9581\n",
      "Epoch 27/50\n",
      "13/13 [==============================] - 10s 789ms/step - loss: 0.1781 - accuracy: 0.9581\n",
      "Epoch 28/50\n",
      "13/13 [==============================] - 10s 779ms/step - loss: 0.1780 - accuracy: 0.9581\n",
      "Epoch 29/50\n",
      "13/13 [==============================] - 10s 796ms/step - loss: 0.1780 - accuracy: 0.9581\n",
      "Epoch 30/50\n",
      "13/13 [==============================] - 10s 775ms/step - loss: 0.1779 - accuracy: 0.9581\n",
      "Epoch 31/50\n",
      "13/13 [==============================] - 10s 785ms/step - loss: 0.1778 - accuracy: 0.9581\n",
      "Epoch 32/50\n",
      "13/13 [==============================] - 10s 781ms/step - loss: 0.1777 - accuracy: 0.9581\n",
      "Epoch 33/50\n",
      "13/13 [==============================] - 10s 774ms/step - loss: 0.1777 - accuracy: 0.9581\n",
      "Epoch 34/50\n",
      "13/13 [==============================] - 11s 815ms/step - loss: 0.1776 - accuracy: 0.9581\n",
      "Epoch 35/50\n",
      "13/13 [==============================] - 11s 826ms/step - loss: 0.1775 - accuracy: 0.9581\n",
      "Epoch 36/50\n",
      "13/13 [==============================] - 10s 769ms/step - loss: 0.1775 - accuracy: 0.9581\n",
      "Epoch 37/50\n",
      "13/13 [==============================] - 10s 763ms/step - loss: 0.1774 - accuracy: 0.9581\n",
      "Epoch 38/50\n",
      "13/13 [==============================] - 10s 770ms/step - loss: 0.1773 - accuracy: 0.9581\n",
      "Epoch 39/50\n",
      "13/13 [==============================] - 10s 764ms/step - loss: 0.1773 - accuracy: 0.9581\n",
      "Epoch 40/50\n",
      "13/13 [==============================] - 10s 763ms/step - loss: 0.1772 - accuracy: 0.9581\n",
      "Epoch 41/50\n",
      "13/13 [==============================] - 10s 766ms/step - loss: 0.1771 - accuracy: 0.9581\n",
      "Epoch 42/50\n",
      "13/13 [==============================] - 10s 782ms/step - loss: 0.1771 - accuracy: 0.9581\n",
      "Epoch 43/50\n",
      "13/13 [==============================] - 11s 837ms/step - loss: 0.1770 - accuracy: 0.9581\n",
      "Epoch 44/50\n",
      "13/13 [==============================] - 10s 771ms/step - loss: 0.1770 - accuracy: 0.9581\n",
      "Epoch 45/50\n",
      "13/13 [==============================] - 10s 771ms/step - loss: 0.1769 - accuracy: 0.9581\n",
      "Epoch 46/50\n",
      "13/13 [==============================] - 10s 774ms/step - loss: 0.1768 - accuracy: 0.9581\n",
      "Epoch 47/50\n",
      "13/13 [==============================] - 10s 761ms/step - loss: 0.1768 - accuracy: 0.9581\n",
      "Epoch 48/50\n",
      "13/13 [==============================] - 10s 770ms/step - loss: 0.1767 - accuracy: 0.9581\n",
      "Epoch 49/50\n",
      "13/13 [==============================] - 10s 771ms/step - loss: 0.1767 - accuracy: 0.9581\n",
      "Epoch 50/50\n",
      "13/13 [==============================] - 10s 773ms/step - loss: 0.1766 - accuracy: 0.9581\n"
     ]
    }
   ],
   "source": [
    "history_pdb = model_pdb.fit(X_train, y_train, epochs=50, batch_size=32)"
   ]
  },
  {
   "cell_type": "code",
   "execution_count": 19,
   "metadata": {},
   "outputs": [
    {
     "name": "stdout",
     "output_type": "stream",
     "text": [
      "3/3 [==============================] - 1s 210ms/step - loss: 0.1152 - accuracy: 0.9802\n",
      "Test Accuracy: 0.980170488357544\n"
     ]
    }
   ],
   "source": [
    "loss, accuracy = model_pdb.evaluate(X_test, y_test)\n",
    "print(f'Test Accuracy: {accuracy}')"
   ]
  }
 ],
 "metadata": {
  "kernelspec": {
   "display_name": "Python 3",
   "language": "python",
   "name": "python3"
  },
  "language_info": {
   "codemirror_mode": {
    "name": "ipython",
    "version": 3
   },
   "file_extension": ".py",
   "mimetype": "text/x-python",
   "name": "python",
   "nbconvert_exporter": "python",
   "pygments_lexer": "ipython3",
   "version": "3.10.9"
  }
 },
 "nbformat": 4,
 "nbformat_minor": 2
}
